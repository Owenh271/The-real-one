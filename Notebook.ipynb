1 point - 5 key things that show what you did in 12 weeks, Tls and Skills learned, Issues created, Burn dwns accmplished, Lessn(s) taught, Live Reviews presentatin(s), and GitHub analytics.

How to create and format Jupyter notebooks
How to work in Github
I learned how to teach my classmates about the code lesson
Because of the lessons, I learned about arrays, booleans, nested conditionals, conditionals, variables, iterations, Classes & Methods.
How to create games
