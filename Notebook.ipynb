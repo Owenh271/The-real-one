{
 "cells": [
  {
   "cell_type": "raw",
   "metadata": {
    "vscode": {
     "languageId": "raw"
    }
   },
   "source": [
    "---\n",
    "layout: post\n",
    "title: Sync\n",
    "description: Sync\n",
    "categories: [Collaboration]\n",
    "courses: { csse: {week: 1}, csp: {week: 1}, csa: {week: 1} }\n",
    "menu: nav/pair_programming.html\n",
    "permalink: /pair/habits\n",
    "type: collab\n",
    "comments: true\n",
    "sticky_rank: 1\n",
    "---"
   ]
  },
  {
   "cell_type": "markdown",
   "metadata": {
    "vscode": {
     "languageId": "raw"
    }
   },
   "source": [
    "# 3 game tinkers "
   ]
  },
  {
   "cell_type": "markdown",
   "metadata": {},
   "source": [
    "# Instructions\n",
    "\n",
    "-Car moves slower when in mud",
    "\n",
    "-When round resets the mud, and the finish line spawn in different places",
    "\n",
    "-When car goes backwards it goes slower",
   
    
    
   ]
  },
  {
   "cell_type": "code",
   "execution_count": null,
   "metadata": {
    "vscode": {
     "languageId": "javascript"
    }
   },
   "outputs": [],
   "source": [
    "%%js "
   ]
  },
  {
   "cell_type": "markdown",
   "metadata": {},
   "source": [
    "# ⬇︎ Answer key ⬇︎"
   ]
  },
  {
   "cell_type": "code",
   "execution_count": null,
   "metadata": {
    "vscode": {
     "languageId": "javascript"
    }
   },
   "outputs": [],
   "source": [
    "%%js\n",
    "\n",
    "let isStudent = true; \n",
    "\n",
    "if (isStudent) {\n",
    "    console.log(\"Welcome, student!\");\n",
    "} else {\n",
    "    console.log(\"Welcome, guest!\");\n",
    "}\n"
   ]
  },
  {
   "cell_type": "markdown",
   "metadata": {},
   "source": [
    "# More instructions:\n",
    "1. Open a New Cell set its type to Code\n",
    "\n",
    "2. Declare Variables:\n",
    "\n",
    "Create a variable for Height and set it to a any reasonable number like 5\"3. Create a variable for inGoodHealth and set it to a boolean value like this: var inGoodHealth = true;.\n",
    "\n",
    "3. Use Boolean Operators:\n",
    "\n",
    "Create a variable named isEligibleForRidingRollerCoaster and use a combination of boolean operators to evaluate eligibility: Make sure that Height is greater or equal to 5\"3 AND if inGoodHealth is true.\n",
    "\n",
    "4. Log the Result:\n",
    "\n",
    "Use an if statement to log a message to show whether the student or guest can ride the roller coaster based on the value of isEligibleForRidingRollerCoaster.\n",
    "\n",
    "5. Run the Code.\n",
    "\n",
    "\n"
   ]
  },
  {
   "cell_type": "code",
   "execution_count": null,
   "metadata": {
    "vscode": {
     "languageId": "javascript"
    }
   },
   "outputs": [],
   "source": [
    "%%js "
   ]
  },
  {
   "cell_type": "markdown",
   "metadata": {},
   "source": [
    "# ⬇︎ Answer key ⬇︎"
   ]
  },
  {
   "cell_type": "code",
   "execution_count": null,
   "metadata": {
    "vscode": {
     "languageId": "javascript"
    }
   },
   "outputs": [],
   "source": [
    "%%js\n",
    "\n",
    "const userName = \"Mario\"; \n",
    "let height = 5\"3; \n",
    "let inGoodHealth = true; \n",
    "\n",
    "\n",
    "const isEligibleForRidingRollerCoaster = (height >= 5\"3) && inGoodHealth;\n",
    "\n",
    "\n",
    "if (isEligibleForRidingRollerCoaster) {\n",
    "    console.log(\"Congratulations, \" + userName + \"! You can ride this roller coaster.\");\n",
    "} else {\n",
    "    console.log(\"Sorry, \" + userName + \"you can't ride this roller coaster.\");\n",
    "}\n"
   ]
  }
 ],
 "metadata": {
  "language_info": {
   "name": "python"
  }
 },
 "nbformat": 4,
 "nbformat_minor": 2
}
